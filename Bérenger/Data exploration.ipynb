{
 "cells": [
  {
   "cell_type": "code",
   "execution_count": null,
   "metadata": {},
   "outputs": [],
   "source": [
    "import numpy as np\n",
    "import pandas as pd\n",
    "\n",
    "import nltk\n",
    "nltk.download('popular')\n",
    "\n",
    "import spacy\n",
    "from nltk.stem import SnowballStemmer\n",
    "stem_en = SnowballStemmer(\"english\")\n",
    "\n",
    "import re\n",
    "\n",
    "stopwordsenglish = nltk.corpus.stopwords.words(\"english\")\n",
    "nlp = spacy.load('en_core_web_sm')\n",
    "\n",
    "import requests\n",
    "\n",
    "\n",
    "########## test\n",
    "\n",
    "from wordcloud import WordCloud\n",
    "import matplotlib.pyplot as plt\n",
    "import seaborn as sns\n",
    "\n",
    "import nltk\n",
    "from nltk.corpus import stopwords\n",
    "from nltk.stem import WordNetLemmatizer\n",
    "\n",
    "from sklearn.feature_extraction.text import CountVectorizer\n",
    "from sklearn.model_selection import GridSearchCV\n",
    "from sklearn.ensemble import RandomForestClassifier\n",
    "\n",
    "from sklearn.metrics import accuracy_score,precision_score,recall_score,confusion_matrix,roc_curve,classification_report\n",
    "from scikitplot.metrics import plot_confusion_matrix\n",
    "\n",
    "\n",
    "#######\n",
    "\n",
    "import text2emotion as te"
   ]
  },
  {
   "cell_type": "code",
   "execution_count": null,
   "metadata": {},
   "outputs": [],
   "source": [
    "df_august = pd.read_csv(\"https://raw.githubusercontent.com/CathieLC/Happy_four_friends/main/Dataset/ManoMano%20-%20August%202021.csv?token=GHSAT0AAAAAABMXSZJMU35CES7HVZWAJODMYPRFTPA\")\n",
    "df_september = pd.read_csv(\"https://raw.githubusercontent.com/CathieLC/Happy_four_friends/main/Dataset/ManoMano%20-%20September%202021.csv?token=GHSAT0AAAAAABMXSZJMUP5FCAR47B6L2AEQYPRFU5Q\")\n",
    "df_october = pd.read_csv(\"https://raw.githubusercontent.com/CathieLC/Happy_four_friends/main/Dataset/ManoMano%20-%20October%202021.csv?token=GHSAT0AAAAAABMXSZJMRDZONS4ZZPZ4U72UYPRFVFQ\")\n",
    "df_november = pd.read_csv(\"https://raw.githubusercontent.com/CathieLC/Happy_four_friends/main/Dataset/ManoMano%20-%20November%202021.csv?token=GHSAT0AAAAAABMXSZJM57XIDQDMXJ3CA5IKYPRFVMA\")\n"
   ]
  },
  {
   "cell_type": "code",
   "execution_count": null,
   "metadata": {},
   "outputs": [],
   "source": [
    "# Concatenation of all dataset\n",
    "frames = [df_august, df_september, df_october, df_november]\n",
    "df_total = pd.concat(frames)\n",
    "# Display all columns when exploring datasets\n",
    "pd.set_option('display.max_columns', None)"
   ]
  },
  {
   "cell_type": "code",
   "execution_count": null,
   "metadata": {},
   "outputs": [],
   "source": [
    "print (df_august.shape)\n",
    "print (df_september.shape)\n",
    "print (df_october.shape)\n",
    "print (df_november.shape)"
   ]
  },
  {
   "cell_type": "code",
   "execution_count": null,
   "metadata": {},
   "outputs": [],
   "source": [
    "df_total[\"first_order\"].value_counts(normalize=True)"
   ]
  },
  {
   "cell_type": "code",
   "execution_count": null,
   "metadata": {},
   "outputs": [],
   "source": [
    "df_total[\"csat_presales\"].value_counts(normalize=True)"
   ]
  },
  {
   "cell_type": "code",
   "execution_count": null,
   "metadata": {},
   "outputs": [],
   "source": [
    "df_total[\"has_presales_contact\"].value_counts(normalize=True)"
   ]
  },
  {
   "cell_type": "code",
   "execution_count": null,
   "metadata": {},
   "outputs": [],
   "source": [
    "df_total[\"has_manodvisor_contact\"].value_counts(normalize=True)"
   ]
  },
  {
   "cell_type": "code",
   "execution_count": null,
   "metadata": {},
   "outputs": [],
   "source": [
    "df_total.head()"
   ]
  },
  {
   "cell_type": "code",
   "execution_count": null,
   "metadata": {},
   "outputs": [],
   "source": [
    "df_total.isna().sum()"
   ]
  },
  {
   "cell_type": "code",
   "execution_count": null,
   "metadata": {},
   "outputs": [],
   "source": [
    "df_comments = df_total.dropna(subset=[\"comment\"])\n",
    "df_comments"
   ]
  },
  {
   "cell_type": "code",
   "execution_count": null,
   "metadata": {},
   "outputs": [],
   "source": [
    "def func_clean(sentence):\n",
    "  sentence = re.sub(r'[^\\w\\s]','',str(sentence))\n",
    "  sentence = nltk.word_tokenize(sentence.lower())\n",
    "  newsentence = \"\"\n",
    "  tokens_clean = []\n",
    "  for words in sentence:\n",
    "    if words not in stopwordsenglish:\n",
    "      tokens_clean.append(words)\n",
    "  tokens_clean2 = ' '.join([str(item) for item in tokens_clean])\n",
    "  sent_tokens = nlp(tokens_clean2)\n",
    "  for token in sent_tokens:\n",
    "    newsentence = newsentence + \" \" + (token.lemma_)\n",
    "  return newsentence"
   ]
  },
  {
   "cell_type": "code",
   "execution_count": null,
   "metadata": {},
   "outputs": [],
   "source": [
    "df_comments2 = df_comments\n",
    "df_comments2[\"comment\"] = df_comments2[\"comment\"].apply(func_clean)\n",
    "df_comments2"
   ]
  },
  {
   "cell_type": "code",
   "execution_count": null,
   "metadata": {},
   "outputs": [],
   "source": [
    "my_text = \"\"\n",
    "\n",
    "for i in df_comments2[\"comment\"]:\n",
    "    my_text+=i\n",
    " "
   ]
  },
  {
   "cell_type": "code",
   "execution_count": null,
   "metadata": {},
   "outputs": [],
   "source": [
    "nlp = spacy.load('en_core_web_sm')\n",
    "\n",
    "sent_tokens = nlp(my_text)\n",
    "\n",
    "lemma_lst = []\n",
    "\n",
    "for token in sent_tokens:\n",
    "  lemma_lst.append(token.lemma_)\n",
    "\n",
    "lemma_freq = nltk.FreqDist(lemma_lst)\n",
    "\n",
    "lemma_freq"
   ]
  },
  {
   "cell_type": "code",
   "execution_count": null,
   "metadata": {},
   "outputs": [],
   "source": [
    "wordcloud = WordCloud(width=480, height=480, max_font_size=200, min_font_size=10)\n",
    "\n",
    "\n",
    "wordcloud.generate_from_frequencies(lemma_freq)\n",
    "\n",
    "plt.figure(figsize=(12, 10))\n",
    "plt.imshow(wordcloud, interpolation=\"bilinear\")\n",
    "plt.axis(\"off\")\n",
    "plt.show()"
   ]
  },
  {
   "cell_type": "code",
   "execution_count": null,
   "metadata": {},
   "outputs": [],
   "source": [
    "df_sentiment = df_comments[[\"id\", \"comment\", \"score\"]]\n",
    "df_sentiment"
   ]
  },
  {
   "cell_type": "code",
   "execution_count": null,
   "metadata": {},
   "outputs": [],
   "source": [
    "##df_sentiment.to_csv(r'C:\\Users\\Berenger\\Desktop\\team_happy_four_friends\\df_sentiment.csv', index = False, header = True)"
   ]
  },
  {
   "cell_type": "code",
   "execution_count": null,
   "metadata": {},
   "outputs": [],
   "source": [
    "print (df_sentiment.iloc[3,1])\n",
    "te.get_emotion(df_sentiment.iloc[3,1])"
   ]
  },
  {
   "cell_type": "code",
   "execution_count": null,
   "metadata": {},
   "outputs": [],
   "source": [
    "df_sentiment[\"sentiment\"] = df_sentiment[\"comment\"].apply(te.get_emotion)\n",
    "df_sentiment"
   ]
  },
  {
   "cell_type": "code",
   "execution_count": null,
   "metadata": {},
   "outputs": [],
   "source": [
    "df_sentiment2 = df_sentiment.copy()"
   ]
  },
  {
   "cell_type": "code",
   "execution_count": null,
   "metadata": {},
   "outputs": [],
   "source": [
    "df_sentiment2"
   ]
  },
  {
   "cell_type": "code",
   "execution_count": null,
   "metadata": {},
   "outputs": [],
   "source": [
    "df_sentiment2.reset_index(inplace=True)\n",
    "\n"
   ]
  },
  {
   "cell_type": "code",
   "execution_count": null,
   "metadata": {},
   "outputs": [],
   "source": [
    "df_sentiment2[[\"happy\", \"angry\", \"surprise\", \"sad\", \"fear\"]] = 0"
   ]
  },
  {
   "cell_type": "code",
   "execution_count": null,
   "metadata": {},
   "outputs": [],
   "source": [
    "df_sentiment2"
   ]
  },
  {
   "cell_type": "code",
   "execution_count": null,
   "metadata": {},
   "outputs": [],
   "source": [
    "for i in range(len(df_sentiment2[\"sentiment\"])):\n",
    "    column_number = 5\n",
    "    for z in df_sentiment2[\"sentiment\"][i]:\n",
    "        df_sentiment2.iloc[i, column_number] = df_sentiment2[\"sentiment\"][i][z]\n",
    "        column_number+=1\n"
   ]
  },
  {
   "cell_type": "code",
   "execution_count": null,
   "metadata": {},
   "outputs": [],
   "source": [
    "df_sentiment2.set_index(\"index\", inplace=True)"
   ]
  },
  {
   "cell_type": "code",
   "execution_count": null,
   "metadata": {},
   "outputs": [],
   "source": [
    "df_comments2[\"happy\"] = df_sentiment2[\"happy\"]\n",
    "df_comments2[\"angry\"] = df_sentiment2[\"angry\"]\n",
    "df_comments2[\"surprise\"] = df_sentiment2[\"surprise\"]\n",
    "df_comments2[\"sad\"] = df_sentiment2[\"sad\"]\n",
    "df_comments2[\"fear\"] = df_sentiment2[\"fear\"]"
   ]
  },
  {
   "cell_type": "code",
   "execution_count": null,
   "metadata": {},
   "outputs": [],
   "source": [
    "df_comments2.head()"
   ]
  },
  {
   "cell_type": "code",
   "execution_count": null,
   "metadata": {},
   "outputs": [],
   "source": [
    "df_comments3 = df_comments2[df_comments2[\"happy\"] + df_comments2[\"angry\"] + df_comments2[\"surprise\"] + df_comments2[\"sad\"] + df_comments2[\"fear\"] != 0]"
   ]
  },
  {
   "cell_type": "code",
   "execution_count": null,
   "metadata": {},
   "outputs": [],
   "source": [
    "df_comments3.head()"
   ]
  },
  {
   "cell_type": "code",
   "execution_count": null,
   "metadata": {},
   "outputs": [],
   "source": [
    "df_comments3['bv_transaction'] = df_comments3['bv_transaction'].str.replace(',','.')"
   ]
  },
  {
   "cell_type": "code",
   "execution_count": null,
   "metadata": {},
   "outputs": [],
   "source": [
    "df_comments3.head()"
   ]
  },
  {
   "cell_type": "code",
   "execution_count": null,
   "metadata": {},
   "outputs": [],
   "source": [
    "df_comments3[\"bv_transaction\"] = pd.to_numeric(df_comments3[\"bv_transaction\"], downcast=\"float\")\n",
    "df_comments3[\"happy\"] = pd.to_numeric(df_comments3[\"happy\"], downcast=\"float\")\n",
    "df_comments3[\"angry\"] = pd.to_numeric(df_comments3[\"angry\"], downcast=\"float\")\n",
    "df_comments3[\"surprise\"] = pd.to_numeric(df_comments3[\"surprise\"], downcast=\"float\")\n",
    "df_comments3[\"sad\"] = pd.to_numeric(df_comments3[\"sad\"], downcast=\"float\")\n",
    "df_comments3[\"fear\"] = pd.to_numeric(df_comments3[\"fear\"], downcast=\"float\")"
   ]
  },
  {
   "cell_type": "code",
   "execution_count": null,
   "metadata": {},
   "outputs": [],
   "source": [
    "df_comments3.head()\n",
    "df_comments3 = df_comments3[[\"score\", \"happy\", \"angry\", \"surprise\", \"sad\", \"fear\"]]"
   ]
  },
  {
   "cell_type": "code",
   "execution_count": null,
   "metadata": {},
   "outputs": [],
   "source": [
    "def plotly_heatmap(df):\n",
    "    import plotly.express as px\n",
    "    import plotly.graph_objects as go\n",
    "    corr = df.corr()\n",
    "    fig = go.Figure()\n",
    "    fig.add_trace(go.Heatmap(\n",
    "        z = corr,\n",
    "        x = corr.columns.values,\n",
    "        y = corr.columns.values,\n",
    "        colorscale = px.colors.diverging.RdBu,\n",
    "        zmid=0\n",
    "    ))\n",
    "\n",
    "    fig.update_layout(width=800, height=700)\n",
    "    fig.show()\n",
    "\n",
    "plotly_heatmap(df_comments3)"
   ]
  },
  {
   "cell_type": "code",
   "execution_count": null,
   "metadata": {},
   "outputs": [],
   "source": [
    "df_comments3.corr()"
   ]
  },
  {
   "cell_type": "code",
   "execution_count": null,
   "metadata": {},
   "outputs": [],
   "source": []
  }
 ],
 "metadata": {
  "interpreter": {
   "hash": "78b7e305d27bf9bc60ca6e97d3f20268b064d9f5fcf2d23d574a1486a0310c34"
  },
  "kernelspec": {
   "display_name": "Python 3.8.12 64-bit ('base': conda)",
   "language": "python",
   "name": "python3"
  },
  "language_info": {
   "codemirror_mode": {
    "name": "ipython",
    "version": 3
   },
   "file_extension": ".py",
   "mimetype": "text/x-python",
   "name": "python",
   "nbconvert_exporter": "python",
   "pygments_lexer": "ipython3",
   "version": "3.8.12"
  },
  "orig_nbformat": 4
 },
 "nbformat": 4,
 "nbformat_minor": 2
}
