{
 "cells": [
  {
   "cell_type": "code",
   "execution_count": 1,
   "metadata": {},
   "outputs": [],
   "source": [
    "import pandas as pd"
   ]
  },
  {
   "cell_type": "code",
   "execution_count": 5,
   "metadata": {},
   "outputs": [],
   "source": [
    "df = pd.read_csv('manomano_outillages.csv')\n",
    "df.drop(columns=['Unnamed: 0'], inplace=True)"
   ]
  },
  {
   "cell_type": "code",
   "execution_count": 6,
   "metadata": {},
   "outputs": [
    {
     "data": {
      "text/html": [
       "<div>\n",
       "<style scoped>\n",
       "    .dataframe tbody tr th:only-of-type {\n",
       "        vertical-align: middle;\n",
       "    }\n",
       "\n",
       "    .dataframe tbody tr th {\n",
       "        vertical-align: top;\n",
       "    }\n",
       "\n",
       "    .dataframe thead th {\n",
       "        text-align: right;\n",
       "    }\n",
       "</style>\n",
       "<table border=\"1\" class=\"dataframe\">\n",
       "  <thead>\n",
       "    <tr style=\"text-align: right;\">\n",
       "      <th></th>\n",
       "      <th>COLIBRI_PRODUCT_GENERIC_ID</th>\n",
       "      <th>FAMILY_NAME</th>\n",
       "      <th>CATEGORY_NAME</th>\n",
       "      <th>SUB_CATEGORY_NAME</th>\n",
       "      <th>SUB_SUB_CATEGORY_NAME</th>\n",
       "      <th>FORSALE</th>\n",
       "      <th>NAME_ARTICLE</th>\n",
       "      <th>MM_URL</th>\n",
       "    </tr>\n",
       "  </thead>\n",
       "  <tbody>\n",
       "    <tr>\n",
       "      <th>0</th>\n",
       "      <td>2258908</td>\n",
       "      <td>Outillage</td>\n",
       "      <td>Outillage à main</td>\n",
       "      <td>Outils de finition</td>\n",
       "      <td>Abrasif et papier de verre</td>\n",
       "      <td>Y</td>\n",
       "      <td>Toile emeri 18x28cm gr 1/80(x4)lot de 4 feuilles</td>\n",
       "      <td>https://www.manomano.fr/recherche/ME2258908</td>\n",
       "    </tr>\n",
       "    <tr>\n",
       "      <th>1</th>\n",
       "      <td>1747620</td>\n",
       "      <td>Outillage</td>\n",
       "      <td>Outillage à main</td>\n",
       "      <td>Clés et douilles</td>\n",
       "      <td>Douille et embout pour clé</td>\n",
       "      <td>Y</td>\n",
       "      <td>Proxxon 3/8 bougies d'allumage utilisent Ø 16 mm</td>\n",
       "      <td>https://www.manomano.fr/recherche/ME1747620</td>\n",
       "    </tr>\n",
       "    <tr>\n",
       "      <th>2</th>\n",
       "      <td>4270561</td>\n",
       "      <td>Outillage</td>\n",
       "      <td>Outillage à main</td>\n",
       "      <td>Outil de mesure électronique</td>\n",
       "      <td>Testeur et détecteur de tension</td>\n",
       "      <td>Y</td>\n",
       "      <td>VOLTCRAFT AM-86X65/100µA Appareil de mesure à ...</td>\n",
       "      <td>https://www.manomano.fr/recherche/ME4270561</td>\n",
       "    </tr>\n",
       "    <tr>\n",
       "      <th>3</th>\n",
       "      <td>6545983</td>\n",
       "      <td>Outillage</td>\n",
       "      <td>Outillage à main</td>\n",
       "      <td>Mesure et traçage</td>\n",
       "      <td>Mètre dépliant</td>\n",
       "      <td>Y</td>\n",
       "      <td>Règle graduée pliante en bois Jaune 2m jaune S...</td>\n",
       "      <td>https://www.manomano.fr/recherche/ME6545983</td>\n",
       "    </tr>\n",
       "    <tr>\n",
       "      <th>4</th>\n",
       "      <td>1757107</td>\n",
       "      <td>Outillage</td>\n",
       "      <td>Outillage à main</td>\n",
       "      <td>Pince et tenaille</td>\n",
       "      <td>Pince coupante et tenaille</td>\n",
       "      <td>Y</td>\n",
       "      <td>Pince coupante diagonale avec facette Knipex 7...</td>\n",
       "      <td>https://www.manomano.fr/recherche/ME1757107</td>\n",
       "    </tr>\n",
       "  </tbody>\n",
       "</table>\n",
       "</div>"
      ],
      "text/plain": [
       "   COLIBRI_PRODUCT_GENERIC_ID FAMILY_NAME     CATEGORY_NAME  \\\n",
       "0                     2258908   Outillage  Outillage à main   \n",
       "1                     1747620   Outillage  Outillage à main   \n",
       "2                     4270561   Outillage  Outillage à main   \n",
       "3                     6545983   Outillage  Outillage à main   \n",
       "4                     1757107   Outillage  Outillage à main   \n",
       "\n",
       "              SUB_CATEGORY_NAME            SUB_SUB_CATEGORY_NAME FORSALE  \\\n",
       "0            Outils de finition       Abrasif et papier de verre       Y   \n",
       "1              Clés et douilles       Douille et embout pour clé       Y   \n",
       "2  Outil de mesure électronique  Testeur et détecteur de tension       Y   \n",
       "3             Mesure et traçage                   Mètre dépliant       Y   \n",
       "4             Pince et tenaille       Pince coupante et tenaille       Y   \n",
       "\n",
       "                                        NAME_ARTICLE  \\\n",
       "0   Toile emeri 18x28cm gr 1/80(x4)lot de 4 feuilles   \n",
       "1   Proxxon 3/8 bougies d'allumage utilisent Ø 16 mm   \n",
       "2  VOLTCRAFT AM-86X65/100µA Appareil de mesure à ...   \n",
       "3  Règle graduée pliante en bois Jaune 2m jaune S...   \n",
       "4  Pince coupante diagonale avec facette Knipex 7...   \n",
       "\n",
       "                                        MM_URL  \n",
       "0  https://www.manomano.fr/recherche/ME2258908  \n",
       "1  https://www.manomano.fr/recherche/ME1747620  \n",
       "2  https://www.manomano.fr/recherche/ME4270561  \n",
       "3  https://www.manomano.fr/recherche/ME6545983  \n",
       "4  https://www.manomano.fr/recherche/ME1757107  "
      ]
     },
     "execution_count": 6,
     "metadata": {},
     "output_type": "execute_result"
    }
   ],
   "source": [
    "df.head()"
   ]
  },
  {
   "cell_type": "code",
   "execution_count": 11,
   "metadata": {},
   "outputs": [
    {
     "data": {
      "text/plain": [
       "Outillage    324594\n",
       "Name: FAMILY_NAME, dtype: int64"
      ]
     },
     "execution_count": 11,
     "metadata": {},
     "output_type": "execute_result"
    }
   ],
   "source": [
    "df['FAMILY_NAME'].value_counts()"
   ]
  },
  {
   "cell_type": "code",
   "execution_count": 12,
   "metadata": {},
   "outputs": [
    {
     "data": {
      "text/plain": [
       "Accessoire et consommables pour outillage électroportatif    170852\n",
       "Outillage à main                                             153742\n",
       "Name: CATEGORY_NAME, dtype: int64"
      ]
     },
     "execution_count": 12,
     "metadata": {},
     "output_type": "execute_result"
    }
   ],
   "source": [
    "df['CATEGORY_NAME'].value_counts()"
   ]
  },
  {
   "cell_type": "code",
   "execution_count": 13,
   "metadata": {},
   "outputs": [
    {
     "data": {
      "text/plain": [
       "Pour une perceuse                                              68395\n",
       "Clés et douilles                                               48550\n",
       "Pour une ponceuse                                              20206\n",
       "Mesure et traçage                                              19183\n",
       "Filetage et taraudage                                          16924\n",
       "Balai charbon                                                  16703\n",
       "Outil de mesure électronique                                   15555\n",
       "Pour défonceuse et affleureuse                                 13972\n",
       "Pince et tenaille                                              13938\n",
       "Pour une meuleuse                                              13348\n",
       "Tournevis : plat, cruciforme, torx, de précision               10255\n",
       "Pour une visseuse                                               9922\n",
       "Pour un perforateur                                             8203\n",
       "Pour une scie circulaire                                        7062\n",
       "Outils de finition                                              6079\n",
       "Outils de découpe                                               5723\n",
       "Marteau, maillet, massette                                      5439\n",
       "Outils à frapper                                                4418\n",
       "Pour une agrafeuse, cloueuse                                    2899\n",
       "Scie à main et lames de scie                                    2846\n",
       "Pour un outil multifonction                                     2172\n",
       "Coffret multi-outils                                            1790\n",
       "Pour une scie sabre                                             1676\n",
       "Agrafeuse à main et accessoires                                 1607\n",
       "Pour une scie sauteuse                                          1561\n",
       "Brosserie                                                       1286\n",
       "Pour un rabot électrique                                        1030\n",
       "Outils d'applique                                                886\n",
       "Pour une carotteuse                                              737\n",
       "Divers accessoire et consommable pour outil électroportatif      671\n",
       "Coupe-boulon et pince monseigneur                                500\n",
       "Pour un pistolet à colle                                         316\n",
       "Pour une boulonneuse à chocs                                     249\n",
       "Pour une fraiseuse                                               216\n",
       "Pour une grignoteuse                                             178\n",
       "Pour un téléphone de chantier                                     50\n",
       "Lame pour coupe boulon                                            49\n",
       "Name: SUB_CATEGORY_NAME, dtype: int64"
      ]
     },
     "execution_count": 13,
     "metadata": {},
     "output_type": "execute_result"
    }
   ],
   "source": [
    "df['SUB_CATEGORY_NAME'].value_counts()\n"
   ]
  },
  {
   "cell_type": "code",
   "execution_count": 14,
   "metadata": {},
   "outputs": [
    {
     "data": {
      "text/plain": [
       "Y    324594\n",
       "Name: FORSALE, dtype: int64"
      ]
     },
     "execution_count": 14,
     "metadata": {},
     "output_type": "execute_result"
    }
   ],
   "source": [
    "df['FORSALE'].value_counts()"
   ]
  },
  {
   "cell_type": "code",
   "execution_count": null,
   "metadata": {},
   "outputs": [],
   "source": []
  }
 ],
 "metadata": {
  "interpreter": {
   "hash": "4544d665ae83a938e78316550df4048c4b5eacadf9e9ff52d5a508ec23c5226a"
  },
  "kernelspec": {
   "display_name": "Python 3.8.12 64-bit ('base': conda)",
   "language": "python",
   "name": "python3"
  },
  "language_info": {
   "codemirror_mode": {
    "name": "ipython",
    "version": 3
   },
   "file_extension": ".py",
   "mimetype": "text/x-python",
   "name": "python",
   "nbconvert_exporter": "python",
   "pygments_lexer": "ipython3",
   "version": "3.8.12"
  },
  "orig_nbformat": 4
 },
 "nbformat": 4,
 "nbformat_minor": 2
}
