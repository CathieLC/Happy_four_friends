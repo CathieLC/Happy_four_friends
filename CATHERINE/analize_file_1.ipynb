{
 "cells": [
  {
   "cell_type": "code",
   "execution_count": null,
   "metadata": {},
   "outputs": [],
   "source": [
    "import pandas as pd\n",
    "import numpy as np"
   ]
  },
  {
   "cell_type": "code",
   "execution_count": null,
   "metadata": {},
   "outputs": [],
   "source": [
    "df_august = pd.read_csv(\"https://raw.githubusercontent.com/CathieLC/Happy_four_friends/main/Dataset/ManoMano%20-%20August%202021.csv?token=GHSAT0AAAAAABMXSZJMU35CES7HVZWAJODMYPRFTPA\")\n",
    "df_september = pd.read_csv(\"https://raw.githubusercontent.com/CathieLC/Happy_four_friends/main/Dataset/ManoMano%20-%20September%202021.csv?token=GHSAT0AAAAAABMXSZJMUP5FCAR47B6L2AEQYPRFU5Q\")\n",
    "df_october = pd.read_csv(\"https://raw.githubusercontent.com/CathieLC/Happy_four_friends/main/Dataset/ManoMano%20-%20October%202021.csv?token=GHSAT0AAAAAABMXSZJMRDZONS4ZZPZ4U72UYPRFVFQ\")\n",
    "df_november = pd.read_csv(\"https://raw.githubusercontent.com/CathieLC/Happy_four_friends/main/Dataset/ManoMano%20-%20November%202021.csv?token=GHSAT0AAAAAABMXSZJM57XIDQDMXJ3CA5IKYPRFVMA\")\n",
    "\n"
   ]
  },
  {
   "cell_type": "code",
   "execution_count": null,
   "metadata": {},
   "outputs": [],
   "source": [
    "frames = [df_august, df_september, df_october, df_november]\n",
    "df_vente_par_mois = pd.concat(frames)\n",
    "df_vente_par_mois.reset_index(drop=True)"
   ]
  },
  {
   "cell_type": "code",
   "execution_count": null,
   "metadata": {},
   "outputs": [],
   "source": [
    "df_vente_par_mois.shape"
   ]
  },
  {
   "cell_type": "code",
   "execution_count": null,
   "metadata": {},
   "outputs": [],
   "source": [
    "df_vente_par_mois.isna().sum()"
   ]
  },
  {
   "cell_type": "code",
   "execution_count": null,
   "metadata": {},
   "outputs": [],
   "source": [
    "df_vente_par_mois=df_vente_par_mois.fillna(np.nan)"
   ]
  },
  {
   "cell_type": "code",
   "execution_count": null,
   "metadata": {},
   "outputs": [],
   "source": [
    "link_accesssoires = 'datasets_cathie\\Moi_accessoires_outillage.xlsx'\n",
    "link_outillages = 'datasets_cathie\\Moi_outillage.xlsx'\n"
   ]
  },
  {
   "cell_type": "code",
   "execution_count": null,
   "metadata": {},
   "outputs": [],
   "source": [
    "df_accesoires_outillages = pd.read_excel(link_accesssoires)\n",
    "df_accesoires_outillages"
   ]
  },
  {
   "cell_type": "code",
   "execution_count": null,
   "metadata": {},
   "outputs": [],
   "source": [
    "df_outillages = pd.read_excel(link_outillages)\n",
    "df_outillages"
   ]
  },
  {
   "cell_type": "code",
   "execution_count": null,
   "metadata": {},
   "outputs": [],
   "source": [
    "frames_outils = [df_outillages,df_accesoires_outillages]\n",
    "df_outillages = pd.concat(frames_outils)\n",
    "df_outillages.reset_index(drop=True)"
   ]
  },
  {
   "cell_type": "code",
   "execution_count": null,
   "metadata": {},
   "outputs": [],
   "source": [
    "df_outillages.isna().sum()"
   ]
  },
  {
   "cell_type": "code",
   "execution_count": null,
   "metadata": {},
   "outputs": [],
   "source": [
    "df_outillages = df_outillages.fillna(np.nan)"
   ]
  },
  {
   "cell_type": "code",
   "execution_count": null,
   "metadata": {},
   "outputs": [],
   "source": [
    "emphty = df_outillages.isnull().any()\n",
    "emphty"
   ]
  },
  {
   "cell_type": "code",
   "execution_count": null,
   "metadata": {},
   "outputs": [],
   "source": [
    "#df_outillages.to_csv('manomano_outillages.csv')\n",
    "df_vente_par_mois.to_csv('manomano_ventes_mensuelles.csv')"
   ]
  }
 ],
 "metadata": {
  "interpreter": {
   "hash": "4544d665ae83a938e78316550df4048c4b5eacadf9e9ff52d5a508ec23c5226a"
  },
  "kernelspec": {
   "display_name": "Python 3.8.12 64-bit ('base': conda)",
   "language": "python",
   "name": "python3"
  },
  "language_info": {
   "codemirror_mode": {
    "name": "ipython",
    "version": 3
   },
   "file_extension": ".py",
   "mimetype": "text/x-python",
   "name": "python",
   "nbconvert_exporter": "python",
   "pygments_lexer": "ipython3",
   "version": "3.8.12"
  },
  "orig_nbformat": 4
 },
 "nbformat": 4,
 "nbformat_minor": 2
}
